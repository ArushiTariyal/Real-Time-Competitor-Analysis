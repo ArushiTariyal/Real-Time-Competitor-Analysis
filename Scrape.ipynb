{
  "nbformat": 4,
  "nbformat_minor": 0,
  "metadata": {
    "colab": {
      "provenance": [],
      "authorship_tag": "ABX9TyMHODq4dfe041xUhl+zAVQf",
      "include_colab_link": true
    },
    "kernelspec": {
      "name": "python3",
      "display_name": "Python 3"
    },
    "language_info": {
      "name": "python"
    }
  },
  "cells": [
    {
      "cell_type": "markdown",
      "metadata": {
        "id": "view-in-github",
        "colab_type": "text"
      },
      "source": [
        "<a href=\"https://colab.research.google.com/github/ArushiTariyal/Real-Time-Competitor-Analysis/blob/main/Scrape.ipynb\" target=\"_parent\"><img src=\"https://colab.research.google.com/assets/colab-badge.svg\" alt=\"Open In Colab\"/></a>"
      ]
    },
    {
      "cell_type": "code",
      "source": [
        "!wget https://dl.google.com/linux/direct/google-chrome-stable_current_amd64.deb\n",
        "!dpkg -i google-chrome-stable_current_amd64.deb\n",
        "!apt-get -f install -y\n",
        "\n",
        "!wget https://chromedriver.storage.googleapis.com/114.0.5735.90/chromedriver_linux64.zip\n",
        "!unzip chromedriver_linux64.zip\n",
        "!chmod +x chromedriver\n",
        "!mv chromedriver /usr/local/bin/\n"
      ],
      "metadata": {
        "colab": {
          "base_uri": "https://localhost:8080/"
        },
        "id": "lHeTpaJCRXya",
        "outputId": "1410de03-15be-47fc-a39c-ae49d72e0889"
      },
      "execution_count": 10,
      "outputs": [
        {
          "output_type": "stream",
          "name": "stdout",
          "text": [
            "--2025-01-28 13:52:51--  https://dl.google.com/linux/direct/google-chrome-stable_current_amd64.deb\n",
            "Resolving dl.google.com (dl.google.com)... 142.251.179.91, 142.251.179.136, 142.251.179.93, ...\n",
            "Connecting to dl.google.com (dl.google.com)|142.251.179.91|:443... connected.\n",
            "HTTP request sent, awaiting response... 200 OK\n",
            "Length: 112533840 (107M) [application/x-debian-package]\n",
            "Saving to: ‘google-chrome-stable_current_amd64.deb.1’\n",
            "\n",
            "google-chrome-stabl 100%[===================>] 107.32M   219MB/s    in 0.5s    \n",
            "\n",
            "2025-01-28 13:52:51 (219 MB/s) - ‘google-chrome-stable_current_amd64.deb.1’ saved [112533840/112533840]\n",
            "\n",
            "(Reading database ... 125571 files and directories currently installed.)\n",
            "Preparing to unpack google-chrome-stable_current_amd64.deb ...\n",
            "Unpacking google-chrome-stable (132.0.6834.110-1) over (132.0.6834.110-1) ...\n",
            "Setting up google-chrome-stable (132.0.6834.110-1) ...\n",
            "Processing triggers for mailcap (3.70+nmu1ubuntu1) ...\n",
            "Processing triggers for man-db (2.10.2-1) ...\n",
            "Reading package lists... Done\n",
            "Building dependency tree... Done\n",
            "Reading state information... Done\n",
            "0 upgraded, 0 newly installed, 0 to remove and 52 not upgraded.\n",
            "--2025-01-28 13:53:10--  https://chromedriver.storage.googleapis.com/114.0.5735.90/chromedriver_linux64.zip\n",
            "Resolving chromedriver.storage.googleapis.com (chromedriver.storage.googleapis.com)... 172.253.115.207, 172.253.122.207, 172.253.63.207, ...\n",
            "Connecting to chromedriver.storage.googleapis.com (chromedriver.storage.googleapis.com)|172.253.115.207|:443... connected.\n",
            "HTTP request sent, awaiting response... 200 OK\n",
            "Length: 7407250 (7.1M) [application/zip]\n",
            "Saving to: ‘chromedriver_linux64.zip.1’\n",
            "\n",
            "chromedriver_linux6 100%[===================>]   7.06M  --.-KB/s    in 0.03s   \n",
            "\n",
            "2025-01-28 13:53:10 (248 MB/s) - ‘chromedriver_linux64.zip.1’ saved [7407250/7407250]\n",
            "\n",
            "Archive:  chromedriver_linux64.zip\n",
            "  inflating: chromedriver            \n",
            "replace LICENSE.chromedriver? [y]es, [n]o, [A]ll, [N]one, [r]ename: y\n",
            "  inflating: LICENSE.chromedriver    \n"
          ]
        }
      ]
    },
    {
      "cell_type": "code",
      "source": [
        "!chmod +x /usr/local/bin/chromedriver\n"
      ],
      "metadata": {
        "id": "m53HQFzrR95O"
      },
      "execution_count": 11,
      "outputs": []
    },
    {
      "cell_type": "code",
      "source": [
        "!apt-get update\n",
        "!apt-get install -y libglib2.0-0 libnss3 libgconf-2-4 libfontconfig1\n"
      ],
      "metadata": {
        "colab": {
          "base_uri": "https://localhost:8080/"
        },
        "id": "CFTNZH3CSDBF",
        "outputId": "6faadb99-3fbe-4df8-b970-a4bbf5feae28"
      },
      "execution_count": 12,
      "outputs": [
        {
          "output_type": "stream",
          "name": "stdout",
          "text": [
            "\r0% [Working]\r            \rHit:1 https://cloud.r-project.org/bin/linux/ubuntu jammy-cran40/ InRelease\n",
            "\r0% [Connecting to archive.ubuntu.com (185.125.190.82)] [Connecting to security.ubuntu.com (91.189.91\r                                                                                                    \rHit:2 http://security.ubuntu.com/ubuntu jammy-security InRelease\n",
            "\r0% [Waiting for headers] [Connected to r2u.stat.illinois.edu (192.17.190.167)] [Connected to develop\r                                                                                                    \rHit:3 https://developer.download.nvidia.com/compute/cuda/repos/ubuntu2204/x86_64  InRelease\n",
            "Hit:4 http://archive.ubuntu.com/ubuntu jammy InRelease\n",
            "Hit:5 https://dl.google.com/linux/chrome/deb stable InRelease\n",
            "Hit:6 http://archive.ubuntu.com/ubuntu jammy-updates InRelease\n",
            "Hit:7 https://r2u.stat.illinois.edu/ubuntu jammy InRelease\n",
            "Hit:8 http://archive.ubuntu.com/ubuntu jammy-backports InRelease\n",
            "Hit:9 https://ppa.launchpadcontent.net/deadsnakes/ppa/ubuntu jammy InRelease\n",
            "Hit:10 https://ppa.launchpadcontent.net/graphics-drivers/ppa/ubuntu jammy InRelease\n",
            "Hit:11 https://ppa.launchpadcontent.net/ubuntugis/ppa/ubuntu jammy InRelease\n",
            "Reading package lists... Done\n",
            "W: Skipping acquire of configured file 'main/source/Sources' as repository 'https://r2u.stat.illinois.edu/ubuntu jammy InRelease' does not seem to provide it (sources.list entry misspelt?)\n",
            "Reading package lists... Done\n",
            "Building dependency tree... Done\n",
            "Reading state information... Done\n",
            "libfontconfig1 is already the newest version (2.13.1-4.2ubuntu5).\n",
            "libgconf-2-4 is already the newest version (3.2.6-7ubuntu2).\n",
            "libglib2.0-0 is already the newest version (2.72.4-0ubuntu2.4).\n",
            "libnss3 is already the newest version (2:3.98-0ubuntu0.22.04.2).\n",
            "0 upgraded, 0 newly installed, 0 to remove and 52 not upgraded.\n"
          ]
        }
      ]
    },
    {
      "cell_type": "code",
      "source": [
        "!chromedriver --version\n"
      ],
      "metadata": {
        "colab": {
          "base_uri": "https://localhost:8080/"
        },
        "id": "pOxA17BfSRkj",
        "outputId": "c23741d2-9548-4b8d-a3d0-685206b2d2bb"
      },
      "execution_count": 13,
      "outputs": [
        {
          "output_type": "stream",
          "name": "stdout",
          "text": [
            "ChromeDriver 114.0.5735.90 (386bc09e8f4f2e025eddae123f36f6263096ae49-refs/branch-heads/5735@{#1052})\n"
          ]
        }
      ]
    },
    {
      "cell_type": "code",
      "source": [
        "!pip install selenium\n",
        "!pip install webdriver-manager\n",
        "!pip install pandas\n",
        "!apt-get update\n",
        "!apt install -y chromium-chromedriver\n",
        "!pip install chromedriver-autoinstaller\n"
      ],
      "metadata": {
        "colab": {
          "base_uri": "https://localhost:8080/"
        },
        "id": "G7e-77N0FNn2",
        "outputId": "39c54126-070c-4456-a1c7-d6c6ad77d242"
      },
      "execution_count": 14,
      "outputs": [
        {
          "output_type": "stream",
          "name": "stdout",
          "text": [
            "Requirement already satisfied: selenium in /usr/local/lib/python3.11/dist-packages (4.28.1)\n",
            "Requirement already satisfied: urllib3<3,>=1.26 in /usr/local/lib/python3.11/dist-packages (from urllib3[socks]<3,>=1.26->selenium) (2.3.0)\n",
            "Requirement already satisfied: trio~=0.17 in /usr/local/lib/python3.11/dist-packages (from selenium) (0.28.0)\n",
            "Requirement already satisfied: trio-websocket~=0.9 in /usr/local/lib/python3.11/dist-packages (from selenium) (0.11.1)\n",
            "Requirement already satisfied: certifi>=2021.10.8 in /usr/local/lib/python3.11/dist-packages (from selenium) (2024.12.14)\n",
            "Requirement already satisfied: typing_extensions~=4.9 in /usr/local/lib/python3.11/dist-packages (from selenium) (4.12.2)\n",
            "Requirement already satisfied: websocket-client~=1.8 in /usr/local/lib/python3.11/dist-packages (from selenium) (1.8.0)\n",
            "Requirement already satisfied: attrs>=23.2.0 in /usr/local/lib/python3.11/dist-packages (from trio~=0.17->selenium) (24.3.0)\n",
            "Requirement already satisfied: sortedcontainers in /usr/local/lib/python3.11/dist-packages (from trio~=0.17->selenium) (2.4.0)\n",
            "Requirement already satisfied: idna in /usr/local/lib/python3.11/dist-packages (from trio~=0.17->selenium) (3.10)\n",
            "Requirement already satisfied: outcome in /usr/local/lib/python3.11/dist-packages (from trio~=0.17->selenium) (1.3.0.post0)\n",
            "Requirement already satisfied: sniffio>=1.3.0 in /usr/local/lib/python3.11/dist-packages (from trio~=0.17->selenium) (1.3.1)\n",
            "Requirement already satisfied: wsproto>=0.14 in /usr/local/lib/python3.11/dist-packages (from trio-websocket~=0.9->selenium) (1.2.0)\n",
            "Requirement already satisfied: pysocks!=1.5.7,<2.0,>=1.5.6 in /usr/local/lib/python3.11/dist-packages (from urllib3[socks]<3,>=1.26->selenium) (1.7.1)\n",
            "Requirement already satisfied: h11<1,>=0.9.0 in /usr/local/lib/python3.11/dist-packages (from wsproto>=0.14->trio-websocket~=0.9->selenium) (0.14.0)\n",
            "Requirement already satisfied: webdriver-manager in /usr/local/lib/python3.11/dist-packages (4.0.2)\n",
            "Requirement already satisfied: requests in /usr/local/lib/python3.11/dist-packages (from webdriver-manager) (2.32.3)\n",
            "Requirement already satisfied: python-dotenv in /usr/local/lib/python3.11/dist-packages (from webdriver-manager) (1.0.1)\n",
            "Requirement already satisfied: packaging in /usr/local/lib/python3.11/dist-packages (from webdriver-manager) (24.2)\n",
            "Requirement already satisfied: charset-normalizer<4,>=2 in /usr/local/lib/python3.11/dist-packages (from requests->webdriver-manager) (3.4.1)\n",
            "Requirement already satisfied: idna<4,>=2.5 in /usr/local/lib/python3.11/dist-packages (from requests->webdriver-manager) (3.10)\n",
            "Requirement already satisfied: urllib3<3,>=1.21.1 in /usr/local/lib/python3.11/dist-packages (from requests->webdriver-manager) (2.3.0)\n",
            "Requirement already satisfied: certifi>=2017.4.17 in /usr/local/lib/python3.11/dist-packages (from requests->webdriver-manager) (2024.12.14)\n",
            "Requirement already satisfied: pandas in /usr/local/lib/python3.11/dist-packages (2.2.2)\n",
            "Requirement already satisfied: numpy>=1.23.2 in /usr/local/lib/python3.11/dist-packages (from pandas) (1.26.4)\n",
            "Requirement already satisfied: python-dateutil>=2.8.2 in /usr/local/lib/python3.11/dist-packages (from pandas) (2.8.2)\n",
            "Requirement already satisfied: pytz>=2020.1 in /usr/local/lib/python3.11/dist-packages (from pandas) (2024.2)\n",
            "Requirement already satisfied: tzdata>=2022.7 in /usr/local/lib/python3.11/dist-packages (from pandas) (2025.1)\n",
            "Requirement already satisfied: six>=1.5 in /usr/local/lib/python3.11/dist-packages (from python-dateutil>=2.8.2->pandas) (1.17.0)\n",
            "Hit:1 http://security.ubuntu.com/ubuntu jammy-security InRelease\n",
            "Hit:2 http://archive.ubuntu.com/ubuntu jammy InRelease\n",
            "Hit:3 http://archive.ubuntu.com/ubuntu jammy-updates InRelease\n",
            "Hit:4 https://cloud.r-project.org/bin/linux/ubuntu jammy-cran40/ InRelease\n",
            "Hit:5 http://archive.ubuntu.com/ubuntu jammy-backports InRelease\n",
            "Hit:6 https://dl.google.com/linux/chrome/deb stable InRelease\n",
            "Hit:7 https://developer.download.nvidia.com/compute/cuda/repos/ubuntu2204/x86_64  InRelease\n",
            "Hit:8 https://r2u.stat.illinois.edu/ubuntu jammy InRelease\n",
            "Hit:9 https://ppa.launchpadcontent.net/deadsnakes/ppa/ubuntu jammy InRelease\n",
            "Hit:10 https://ppa.launchpadcontent.net/graphics-drivers/ppa/ubuntu jammy InRelease\n",
            "Hit:11 https://ppa.launchpadcontent.net/ubuntugis/ppa/ubuntu jammy InRelease\n",
            "Reading package lists... Done\n",
            "W: Skipping acquire of configured file 'main/source/Sources' as repository 'https://r2u.stat.illinois.edu/ubuntu jammy InRelease' does not seem to provide it (sources.list entry misspelt?)\n",
            "Reading package lists... Done\n",
            "Building dependency tree... Done\n",
            "Reading state information... Done\n",
            "chromium-chromedriver is already the newest version (1:85.0.4183.83-0ubuntu2.22.04.1).\n",
            "0 upgraded, 0 newly installed, 0 to remove and 52 not upgraded.\n",
            "Requirement already satisfied: chromedriver-autoinstaller in /usr/local/lib/python3.11/dist-packages (0.6.4)\n",
            "Requirement already satisfied: packaging>=23.1 in /usr/local/lib/python3.11/dist-packages (from chromedriver-autoinstaller) (24.2)\n"
          ]
        }
      ]
    },
    {
      "cell_type": "code",
      "source": [
        "import json\n",
        "import time\n",
        "from datetime import datetime\n",
        "\n",
        "\n",
        "import pandas as pd\n",
        "from selenium import webdriver\n",
        "from selenium.webdriver.chrome.options import Options\n",
        "from selenium.webdriver.chrome.service import Service\n",
        "from selenium.webdriver.common.by import By\n",
        "from selenium.webdriver.support import expected_conditions as EC\n",
        "from selenium.webdriver.support.wait import WebDriverWait\n",
        "from webdriver_manager.chrome import ChromeDriverManager\n"
      ],
      "metadata": {
        "id": "UHCU-EXbFJZW"
      },
      "execution_count": 15,
      "outputs": []
    },
    {
      "cell_type": "code",
      "source": [
        "links = {\n",
        "    \"Sony WH-1000XM5\": \"https://www.amazon.in/Sony-WH-1000XM5-Wireless-Cancelling-Headphones/dp/B09XS7JWHH/ref=sr_1_3?crid=1H8ST231DJABY&dib=eyJ2IjoiMSJ9.kDITq7OrrHeIwpurKbq9YsFmTo5_0dOBXgayUm6ZZoEnEJrhmavD7KP4G7pMIlXiHP4B_sPw5licRxPnfI4OOnmTMt2HRVA8DXAk_YA7QH7_4tvc11dVdHfhrlYMAVDF40CplCoOT3x1MOTp1IFDDnSutJqRgje5xGfvpemAQOIGlTLukctM5Zu6FYSU4vYLkn7ncLdEuEyFgHFF6ZuD1AkDpWkAUD4bZ-IZ75YedSw.PSxm4W6X1cLBmh7-ufKhTeBkJOSJVGi0qWkUc4VoMfE&dib_tag=se&keywords=Sony%2BWH-1000XM5&nsdOptOutParam=true&qid=1738044700&sprefix=sony%2Bwh-1000xm5%2Caps%2C247&sr=8-3&th=1\",\n",
        "    \"Bose QuietComfort 45\": \"https://www.amazon.in/Bose-QuietComfort-Cancelling-Headphones-Bluetooth/dp/B0D4Z9C562/ref=sr_1_3?crid=31EV5SYTMNW1V&dib=eyJ2IjoiMSJ9.q-dRvK8D4AhsC58IxZ2YtSLcHmY0QW7jdVIFmei5850qp1SgMmtTNW21XyNcoYmVrQdVLNivSwzzcetFENDq50hbXBGPuZinbBb2wFHuAFOf0WVE9xhuIA33SAmxV9NwFBOvu8COJr8c55n08X7kg7rDE1fayOWIP6JSmv3zNEeLhk5pSuaLpy-ls90M9JRlMovZFcjz2Jttjdf2yiBU1407xcCQZtxfrCx3xoka4Z8.YwSPhoDRwm1T_1yhc3ATinY8_AhQP9U0gIF6GUQsEZI&dib_tag=se&keywords=Bose%2BQuietComfort%2B45&nsdOptOutParam=true&qid=1738044650&sprefix=bose%2Bquietcomfort%2B45%2Caps%2C224&sr=8-3&th=1\",\n",
        "    \"JBL Tune 760NC\": \"https://www.amazon.in/JBL-Cancellation-Headphones-Playtime-Assistant/dp/B096FYLJ6M/ref=sr_1_3?crid=Y6L890TBWCPZ&dib=eyJ2IjoiMSJ9.M8DTB_QtrlgHo7pyadheI3y9gaXFSzLfcbnP-TPWXdhuUL9NG89InHjBzW6zZfSaFonZ5u8NtXZKfEz074QNoDwR9RW83TnW-Mh3MhTXSunYLC8nBJDRyMZ8jZ1VelcOSPsQO6E-argdaIcoGlPuYFX68jSVFmmVMIlHxJRKAN0vQWuwjRZYFdmtatcRS1nEmRzE8aDNmnTd4FJMtDxswtVefGJjMKg1YEIyvTUmHA0.AIth-wWHJHJfuD6C-HbAHnBWutqP9A6-PDsB28edF2o&dib_tag=se&keywords=JBL%2BTune%2B760NC&nsdOptOutParam=true&qid=1738044752&sprefix=jbl%2Btune%2B760nc%2Caps%2C234&sr=8-3&th=1\",\n",
        "    \"Sennheiser HD 450BT\": \"https://www.amazon.in/Sennheiser-Wireless-Headphones-Active-Cancellation/dp/B083T4XJDY/ref=sr_1_3?crid=2SJ2D65C05Y7F&dib=eyJ2IjoiMSJ9.29ZGJ8Q-aGGivi_94oqPzlblYosk6zWV9BLDHPp5vbeHANCLUti3AJcw-JVvNHn_FCpCbBC3Z713EMD9KCVKwnAbsnR7IV-1XODjt4cUIVnI1oOUL48pZ1gMm9r4CXofwEQ_baWSTVrnGXfK4cyBbQtA37efBLbobBwdkLUwRUdZKz5x5lcL9tkSuD8JpyE8ohfdfo61pjhToNU-wiKPjzDrY2nokcCg5Pac16UuWrE.03A-Ek9iax1iV_NCKHSQ5unlG55NbhENPN3ZRHD1nuQ&dib_tag=se&keywords=Sennheiser%2BHD%2B450BT&nsdOptOutParam=true&qid=1738044796&sprefix=sennheiser%2Bhd%2B450bt%2Caps%2C231&sr=8-3&th=1\"\n",
        "}\n"
      ],
      "metadata": {
        "id": "a8PhlEYGfNIF"
      },
      "execution_count": 16,
      "outputs": []
    },
    {
      "cell_type": "code",
      "source": [
        "def scrape_product_data(link):\n",
        "    options = Options()\n",
        "    options.add_argument(\"--headless\")\n",
        "    options.add_argument(\"--no-sandbox\")\n",
        "    options.add_argument(\"--disable-dev-shm-usage\")\n",
        "    options.add_argument(\"--disable-gpu\")\n",
        "    options.add_argument(\"--lang=en\")\n",
        "    options.add_argument(\"--window-size-1920, 1080\")\n",
        "\n",
        "    driver = webdriver.Chrome(service = Service(ChromeDriverManager().install()), options = options)\n",
        "    driver.set_window_size(1920, 1080)\n",
        "    driver.get(link)\n",
        "    product_data, review_data = {}, {}\n",
        "    product_data[\"reviews\"] = []\n",
        "    wait = WebDriverWait(driver, 10)\n",
        "    time.sleep(5)\n",
        "    retry = 0\n",
        "    while retry < 3:\n",
        "        try:\n",
        "            driver.save_screenshot(\"screenshot.png\")\n",
        "            wait.until(EC.presence_of_element_located((By.CLASS_NAME, \"a-offscreen\")))\n",
        "            break\n",
        "\n",
        "        except Exception:\n",
        "            print(\"retrying\")\n",
        "            retry += 1\n",
        "            driver.get(link)\n",
        "            time.sleep(5)\n",
        "\n",
        "        driver.save_screenshot(\"screenshot.png\")\n",
        "\n",
        "\n",
        "        try:\n",
        "            price_elem = driver.find_element(By.XPATH,\n",
        "            '// *[ @ id = \"corePriceDisplay_desktop_feature_div\"] / div[1] / span[3] / span[2] / span[2]',)\n",
        "            product_data[\"selling price\"] = int(\"\".join(price_elem.text.strip().split(\",\")))\n",
        "\n",
        "        except:\n",
        "            product_data[\"selling price\"] = 0\n",
        "\n",
        "        try:\n",
        "            original_price = driver.find_element(\n",
        "                By.XPATH,\n",
        "                '// * [ @ id = \"corePriceDisplay_desktop_feature_div\"] / div[2] / span / span[1] / span[2] / span /span[2]',).text\n",
        "\n",
        "            product_data[\"original price\"] = int(\"\".join(original_price.strip().split(\",\")))\n",
        "        except:\n",
        "            product_data[\"original price\"] = 0\n",
        "\n",
        "\n",
        "        try:\n",
        "            discount = driver.find_element(\n",
        "\n",
        "                       By.XPATH,\n",
        "        ' // *[ @ id = \"corePriceDisplay_desktop_feature_div\"] / div[1] / span[2] ',)\n",
        "            full_rating_text = discount.get_attribute(\"innerHTML\").strip()\n",
        "            if \" out of 5 stars\" in full_rating_text.lower():\n",
        "                product_data[\"rating\"] = (\n",
        "                        full_rating_text.lower().split(\" out of\")[0].strip()\n",
        "                )\n",
        "            else:\n",
        "                product_data[\"discount\"] = full_rating_text\n",
        "\n",
        "\n",
        "        except:\n",
        "            product_data[\"discount\"] = 0\n",
        "\n",
        "        try:\n",
        "            driver.find_element(By.CLASS_NAME, \"a-icon-popover\").click()\n",
        "            time.sleep(1)\n",
        "\n",
        "        except:\n",
        "            pass\n",
        "\n",
        "        try:\n",
        "            reviews_link = driver.find_elements(\n",
        "            By.XPATH, \"//a[contains(text(), 'See customer reviews')]\")[-1].get_attribute(\"href\")\n",
        "            product_data[\"product_url\"] = reviews_link.split(\"#\")[0]\n",
        "            driver.get(reviews_link)\n",
        "            time.sleep(3)\n",
        "            reviews = driver.find_element(By.ID, \"cm-cr-dp-review-list\")\n",
        "            reviews = reviews.find_elements(By.TAG_NAME, \"li\")\n",
        "            for item in reviews:\n",
        "                product_data[\"reviews\"].append(item.get_attribute(\"innerText\"))\n",
        "            driver.back()\n",
        "            time.sleep(3)\n",
        "\n",
        "        except Exception:\n",
        "            product_data[\"reviews\"] = []\n",
        "            driver.quit()\n",
        "            return product_data"
      ],
      "metadata": {
        "id": "0YkxbpinFWAR"
      },
      "execution_count": 17,
      "outputs": []
    },
    {
      "cell_type": "code",
      "source": [
        "for product_name, link in links.items():\n",
        "    product_data = scrape_product_data(link)\n",
        "    reviews = json.loads(pd.read_csv(\"reviews.csv\").to_json(orient = \"records\"))\n",
        "    price = json.loads(pd.read_csv(\"competitor_data.csv\").to_json(orient=\"records\"))\n",
        "    price.append(\n",
        "        {\n",
        "\n",
        "            \"product_name\": product_name,\n",
        "            \"Price\": product_data[\"selling price\"],\n",
        "            \"Discount\": product_data[\"discount\"],\n",
        "            \"Date\": datetime.now().strftime(\"%Y-%m-%d\"),\n",
        "        }\n",
        "    )\n",
        "    for i in product_data[\"reviews\"]:\n",
        "        reviews.append({\"product_name\": product_name, \"reviews\": i})\n",
        "    pd.DataFrame(reviews).to_csv(\"reviews.csv\", index=False)\n",
        "    pd.DataFrame(price).to_csv(\"competitor_data.csv\", index=False)"
      ],
      "metadata": {
        "colab": {
          "base_uri": "https://localhost:8080/",
          "height": 211
        },
        "id": "Ha8scw29Ffis",
        "outputId": "6aafe425-6c89-4376-826d-39e2c1f63284"
      },
      "execution_count": 20,
      "outputs": [
        {
          "output_type": "error",
          "ename": "TypeError",
          "evalue": "'NoneType' object is not subscriptable",
          "traceback": [
            "\u001b[0;31m---------------------------------------------------------------------------\u001b[0m",
            "\u001b[0;31mTypeError\u001b[0m                                 Traceback (most recent call last)",
            "\u001b[0;32m<ipython-input-20-608d18e48e05>\u001b[0m in \u001b[0;36m<cell line: 0>\u001b[0;34m()\u001b[0m\n\u001b[1;32m      7\u001b[0m \u001b[0;34m\u001b[0m\u001b[0m\n\u001b[1;32m      8\u001b[0m             \u001b[0;34m\"product_name\"\u001b[0m\u001b[0;34m:\u001b[0m \u001b[0mproduct_name\u001b[0m\u001b[0;34m,\u001b[0m\u001b[0;34m\u001b[0m\u001b[0;34m\u001b[0m\u001b[0m\n\u001b[0;32m----> 9\u001b[0;31m             \u001b[0;34m\"Price\"\u001b[0m\u001b[0;34m:\u001b[0m \u001b[0mproduct_data\u001b[0m\u001b[0;34m[\u001b[0m\u001b[0;34m\"selling price\"\u001b[0m\u001b[0;34m]\u001b[0m\u001b[0;34m,\u001b[0m\u001b[0;34m\u001b[0m\u001b[0;34m\u001b[0m\u001b[0m\n\u001b[0m\u001b[1;32m     10\u001b[0m             \u001b[0;34m\"Discount\"\u001b[0m\u001b[0;34m:\u001b[0m \u001b[0mproduct_data\u001b[0m\u001b[0;34m[\u001b[0m\u001b[0;34m\"discount\"\u001b[0m\u001b[0;34m]\u001b[0m\u001b[0;34m,\u001b[0m\u001b[0;34m\u001b[0m\u001b[0;34m\u001b[0m\u001b[0m\n\u001b[1;32m     11\u001b[0m             \u001b[0;34m\"Date\"\u001b[0m\u001b[0;34m:\u001b[0m \u001b[0mdatetime\u001b[0m\u001b[0;34m.\u001b[0m\u001b[0mnow\u001b[0m\u001b[0;34m(\u001b[0m\u001b[0;34m)\u001b[0m\u001b[0;34m.\u001b[0m\u001b[0mstrftime\u001b[0m\u001b[0;34m(\u001b[0m\u001b[0;34m\"%Y-%m-%d\"\u001b[0m\u001b[0;34m)\u001b[0m\u001b[0;34m,\u001b[0m\u001b[0;34m\u001b[0m\u001b[0;34m\u001b[0m\u001b[0m\n",
            "\u001b[0;31mTypeError\u001b[0m: 'NoneType' object is not subscriptable"
          ]
        }
      ]
    }
  ]
}